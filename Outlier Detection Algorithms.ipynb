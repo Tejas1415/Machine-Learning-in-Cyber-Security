{
 "cells": [
  {
   "cell_type": "markdown",
   "metadata": {},
   "source": [
    "# Challenge 6 - Outlier and Anomaly Detection Techniques\n",
    "\n",
    "- **Author: Tejas Krishna Reddy**\n",
    "- **NUID: 001423166**\n"
   ]
  },
  {
   "cell_type": "markdown",
   "metadata": {},
   "source": [
    "### Necessery python modules to be installed-\n",
    "\n",
    "- !pip install pandas\n",
    "- !pip install numpy\n",
    "- !pip install scipy\n",
    "- !pip install sklearn"
   ]
  },
  {
   "cell_type": "code",
   "execution_count": 1,
   "metadata": {},
   "outputs": [],
   "source": [
    "import pandas as pd\n",
    "import numpy as np\n",
    "from scipy.io import arff\n",
    "from sklearn.ensemble import IsolationForest\n",
    "from sklearn.neighbors import LocalOutlierFactor"
   ]
  },
  {
   "cell_type": "markdown",
   "metadata": {},
   "source": [
    "## Load the ARFF Data:"
   ]
  },
  {
   "cell_type": "code",
   "execution_count": 2,
   "metadata": {},
   "outputs": [
    {
     "data": {
      "text/plain": [
       "array([4.00000000e+00, 4.00000000e+00, 1.83000000e+02, 2.33000000e+02,\n",
       "       9.00000000e+00, 1.80000000e+01, 3.00000000e+00, 1.00000000e+01,\n",
       "       3.00000000e+00, 1.00000000e+01, 0.00000000e+00, 4.10000000e+01,\n",
       "       1.90000000e+01, 1.15000000e+02, 2.00000000e-01, 5.00000000e-01,\n",
       "       1.00000000e+00, 0.00000000e+00, 2.00000000e+01, 2.00000000e+00,\n",
       "       1.00000000e+00, 0.00000000e+00, 0.00000000e+00, 0.00000000e+00,\n",
       "       5.40229857e-01, 1.04309767e+00])"
      ]
     },
     "execution_count": 2,
     "metadata": {},
     "output_type": "execute_result"
    }
   ],
   "source": [
    "data, meta = arff.loadarff('DatasetChallenge6.arff')\n",
    "dataset = np.array(data.tolist(), dtype=np.float64)\n",
    "# Print an example of how the data (26 features) of each instance looks like.\n",
    "dataset[1]"
   ]
  },
  {
   "cell_type": "markdown",
   "metadata": {},
   "source": [
    "# Isolation Forest"
   ]
  },
  {
   "cell_type": "code",
   "execution_count": 3,
   "metadata": {},
   "outputs": [],
   "source": [
    "### Part 1: Isolation Algorithm\n",
    "clf = IsolationForest(random_state=0).fit(dataset)"
   ]
  },
  {
   "cell_type": "code",
   "execution_count": 5,
   "metadata": {},
   "outputs": [
    {
     "name": "stdout",
     "output_type": "stream",
     "text": [
      "Num of outliers detected by Isolation Forest Algorithm =  12079\n"
     ]
    }
   ],
   "source": [
    "# Print the number of samples that have been classified as -1 (outliers)\n",
    "# Returns 1 for inliers and -1 for outliers\n",
    "print(\"Num of outliers detected by Isolation Forest Algorithm = \",list(clf.predict(dataset)).count(-1))"
   ]
  },
  {
   "cell_type": "code",
   "execution_count": 6,
   "metadata": {},
   "outputs": [],
   "source": [
    "### Part 2: Decision Function\n",
    "dfun = clf.decision_function(dataset)"
   ]
  },
  {
   "cell_type": "code",
   "execution_count": 7,
   "metadata": {},
   "outputs": [
    {
     "name": "stdout",
     "output_type": "stream",
     "text": [
      "Average anomaly score from Isolation forest algorithm on dataset =  0.08354828681590722\n"
     ]
    }
   ],
   "source": [
    "### Average of all anamoly scores in the dataset:\n",
    "print(\"Average anomaly score from Isolation forest algorithm on dataset = \",np.mean(dfun))"
   ]
  },
  {
   "cell_type": "code",
   "execution_count": 25,
   "metadata": {},
   "outputs": [
    {
     "name": "stdout",
     "output_type": "stream",
     "text": [
      "Number of instances that have less than -0.2 anomoly score =  7\n"
     ]
    }
   ],
   "source": [
    "#Values less than -0.2:\n",
    "print(\"Number of instances that have less than -0.2 anomoly score = \", len(np.where(dfun <= -0.2)[0]))"
   ]
  },
  {
   "cell_type": "code",
   "execution_count": 16,
   "metadata": {},
   "outputs": [
    {
     "name": "stdout",
     "output_type": "stream",
     "text": [
      "Index of Rows that have anamoly score less than -0.2 are:\n"
     ]
    },
    {
     "data": {
      "text/plain": [
       "array([73134, 73819, 74597, 75647, 78490, 79224, 80418], dtype=int64)"
      ]
     },
     "execution_count": 16,
     "metadata": {},
     "output_type": "execute_result"
    }
   ],
   "source": [
    "# Rows that have anamoly score less than -0.2 are\n",
    "print('Index of Rows that have anamoly score less than -0.2 are:')\n",
    "np.where(dfun <= -0.2)[0]"
   ]
  },
  {
   "cell_type": "markdown",
   "metadata": {},
   "source": [
    "# Local Outlier Factor Algorithm:"
   ]
  },
  {
   "cell_type": "code",
   "execution_count": 17,
   "metadata": {},
   "outputs": [],
   "source": [
    "# Define LOF\n",
    "clf1 = LocalOutlierFactor(n_neighbors=3)"
   ]
  },
  {
   "cell_type": "code",
   "execution_count": 18,
   "metadata": {},
   "outputs": [
    {
     "name": "stdout",
     "output_type": "stream",
     "text": [
      "Num of instances labeled as outliers =  10564\n"
     ]
    }
   ],
   "source": [
    "# Num of instances labeled as outliers\n",
    "print(\"Num of instances labeled as outliers = \", list(clf1.fit_predict(dataset)).count(-1))"
   ]
  },
  {
   "cell_type": "code",
   "execution_count": 19,
   "metadata": {},
   "outputs": [
    {
     "name": "stdout",
     "output_type": "stream",
     "text": [
      "Average LOF scores of all instances =  -2.6230392330832236e+33\n"
     ]
    }
   ],
   "source": [
    "# Calculating average LOF scores for all the instances\n",
    "clf1_scores = clf1.negative_outlier_factor_\n",
    "print(\"Average LOF scores of all instances = \", np.mean(clf1_scores))"
   ]
  },
  {
   "cell_type": "code",
   "execution_count": 22,
   "metadata": {},
   "outputs": [
    {
     "name": "stdout",
     "output_type": "stream",
     "text": [
      "Number of instances that have LOF less than or equal to -40 =  302\n"
     ]
    }
   ],
   "source": [
    "# Number of instances that have less or equal to -40 LOF score\n",
    "print(\"Number of instances that have LOF less than or equal to -40 = \", len(np.where(clf1_scores <= -40)[0]))"
   ]
  },
  {
   "cell_type": "code",
   "execution_count": 23,
   "metadata": {},
   "outputs": [
    {
     "name": "stdout",
     "output_type": "stream",
     "text": [
      "All index of instances that have LOF less than or equal to -40:\n"
     ]
    },
    {
     "data": {
      "text/plain": [
       "array([ 7421, 15861, 15868, 16205, 16210, 16302, 16309, 16326, 16333,\n",
       "       22031, 28030, 38221, 38232, 38233, 39680, 40911, 41225, 41399,\n",
       "       41402, 41410, 41417, 41679, 42586, 46147, 48390, 50264, 58993,\n",
       "       59711, 63055, 63057, 63059, 63062, 63064, 63066, 63249, 63252,\n",
       "       63254, 63256, 63259, 63261, 63263, 63266, 63268, 63271, 63273,\n",
       "       63278, 63280, 63282, 63287, 63294, 63301, 63484, 64334, 65941,\n",
       "       66152, 66156, 66160, 66165, 66169, 66173, 66178, 66182, 66186,\n",
       "       66191, 66195, 66199, 66204, 66208, 66212, 66221, 66225, 66230,\n",
       "       66234, 66238, 66243, 66247, 66251, 66256, 66260, 66264, 66269,\n",
       "       66273, 66277, 66281, 66286, 66290, 66294, 66299, 66303, 66307,\n",
       "       66312, 66316, 66320, 66325, 66329, 66333, 66338, 66342, 66346,\n",
       "       66351, 66381, 66385, 66390, 66394, 66398, 66403, 66411, 66416,\n",
       "       66420, 66424, 68390, 68394, 68398, 68403, 68407, 68411, 68554,\n",
       "       68777, 68781, 68786, 68790, 68794, 68799, 68803, 68808, 68813,\n",
       "       68817, 68822, 68826, 68831, 68835, 68840, 68849, 68854, 68858,\n",
       "       68863, 68868, 68872, 68877, 68881, 68886, 68891, 68895, 68900,\n",
       "       68904, 68909, 68913, 68917, 68922, 68927, 68931, 68936, 68940,\n",
       "       68945, 68949, 68954, 68959, 68963, 68968, 68972, 68977, 68982,\n",
       "       68986, 70386, 70391, 70395, 70399, 70404, 70408, 70551, 71953,\n",
       "       72027, 72036, 72286, 73134, 73293, 73386, 73512, 73569, 74371,\n",
       "       74619, 75310, 75583, 75825, 76250, 76374, 76909, 77095, 77675,\n",
       "       77758, 78786, 79119, 79156, 79228, 79475, 79545, 79563, 79605,\n",
       "       79732, 81219, 81615, 81764, 81790, 81904, 82332, 82812, 82885,\n",
       "       82887, 82904, 83102, 83453, 83544, 83765, 83767, 83777, 83786,\n",
       "       83809, 83840, 83849, 83859, 83861, 83866, 83873, 83875, 83898,\n",
       "       83903, 83905, 83910, 83912, 83959, 83982, 84038, 84052, 84083,\n",
       "       84097, 84116, 84128, 84130, 84142, 84151, 84165, 84174, 84186,\n",
       "       84214, 84219, 84221, 84228, 84278, 84308, 84317, 84324, 84340,\n",
       "       84345, 84353, 84365, 84372, 84374, 84393, 84395, 84407, 84409,\n",
       "       84419, 84421, 84442, 84454, 84461, 84470, 84477, 84489, 84500,\n",
       "       84505, 84519, 84535, 84540, 84542, 84547, 84557, 84587, 84603,\n",
       "       84615, 84629, 84643, 84654, 84670, 84677, 84712, 84721, 84735,\n",
       "       84760, 84764, 84776, 84813, 84824, 84832, 84842, 84851, 84853,\n",
       "       84878, 84885, 84900, 85490, 85491], dtype=int64)"
      ]
     },
     "execution_count": 23,
     "metadata": {},
     "output_type": "execute_result"
    }
   ],
   "source": [
    "# All index of instances that have score <= -40:\n",
    "print(\"All index of instances that have LOF less than or equal to -40:\")\n",
    "np.where(clf1_scores <= -40)[0]"
   ]
  },
  {
   "cell_type": "code",
   "execution_count": null,
   "metadata": {},
   "outputs": [],
   "source": []
  }
 ],
 "metadata": {
  "kernelspec": {
   "display_name": "Python 3",
   "language": "python",
   "name": "python3"
  },
  "language_info": {
   "codemirror_mode": {
    "name": "ipython",
    "version": 3
   },
   "file_extension": ".py",
   "mimetype": "text/x-python",
   "name": "python",
   "nbconvert_exporter": "python",
   "pygments_lexer": "ipython3",
   "version": "3.6.10"
  }
 },
 "nbformat": 4,
 "nbformat_minor": 4
}
