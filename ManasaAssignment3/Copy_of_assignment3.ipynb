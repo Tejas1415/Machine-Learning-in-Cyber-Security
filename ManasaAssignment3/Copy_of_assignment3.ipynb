{
 "cells": [
  {
   "cell_type": "markdown",
   "metadata": {
    "id": "Tajfsk_7JY3E"
   },
   "source": [
    "**Note to grader:** Each question consists of parts, e.g. Q1(i), Q1(ii), etc. Each part must be graded  on a 0-4 scale, following the standard NJIT convention (A:4, B+: 3.5, B:3, C+: 2.5, C: 2, D:1, F:0). \n",
    "The total score must be re-scaled to 100 -- that should apply to all future assignments so that Canvas assigns the same weight on all assignments. \n",
    "\n"
   ]
  },
  {
   "cell_type": "code",
   "execution_count": null,
   "metadata": {
    "id": "zPnHTf9MfT5X"
   },
   "outputs": [],
   "source": [
    "# Grader's area\n",
    "import numpy as np\n",
    "M = np.zeros([10,10])\n",
    "maxScore = 0\n"
   ]
  },
  {
   "cell_type": "markdown",
   "metadata": {
    "id": "SArgW_Vq-uTh"
   },
   "source": [
    "# **Assignment 3**\n",
    "\n",
    "The goal in this assignment to work a little more with Python, do some practice with logistic regression, reflect on how it can fail to work on linearly separable data. You will also work with a support vector classifier. All that, still on \"toy\" data sets. \n",
    "\n",
    "We will work with the first 'real' data sets in the next assignment. "
   ]
  },
  {
   "cell_type": "markdown",
   "metadata": {
    "id": "IlFM4hig-uTj"
   },
   "source": [
    "## **Preparation Steps**"
   ]
  },
  {
   "cell_type": "code",
   "execution_count": null,
   "metadata": {
    "id": "E3alYkjM-uTk"
   },
   "outputs": [],
   "source": [
    "# Import all necessary python packages\n",
    "import numpy as np\n",
    "import os\n",
    "import pandas as pd\n",
    "import matplotlib.pyplot as plt\n",
    "from matplotlib.colors import ListedColormap\n",
    "from sklearn.linear_model import LogisticRegression"
   ]
  },
  {
   "cell_type": "code",
   "execution_count": null,
   "metadata": {
    "colab": {
     "base_uri": "https://localhost:8080/"
    },
    "id": "eTVa-fum-uTt",
    "outputId": "ac672805-93aa-4f90-8052-ea57a66861c3"
   },
   "outputs": [
    {
     "name": "stdout",
     "output_type": "stream",
     "text": [
      "URL: https://archive.ics.uci.edu/ml/machine-learning-databases/iris/iris.data\n"
     ]
    }
   ],
   "source": [
    "# ### Reading-in the Iris data\n",
    "\n",
    "s = os.path.join('https://archive.ics.uci.edu', 'ml',\n",
    "                 'machine-learning-databases', 'iris','iris.data')\n",
    "s = s.replace(\"\\\\\",\"/\");\n",
    "print('URL:', s)\n",
    "df = pd.read_csv(s,header=None,encoding='utf-8')\n"
   ]
  },
  {
   "cell_type": "code",
   "execution_count": null,
   "metadata": {
    "colab": {
     "base_uri": "https://localhost:8080/",
     "height": 279
    },
    "id": "cqzyfFCC-uTz",
    "outputId": "1d89f90c-99a4-4755-9418-27bba70817a1"
   },
   "outputs": [
    {
     "data": {
      "image/png": "[encoded data removed]",
      "text/plain": [
       "<Figure size 432x288 with 1 Axes>"
      ]
     },
     "metadata": {
      "needs_background": "light"
     },
     "output_type": "display_data"
    }
   ],
   "source": [
    "# select setosa and versicolor for binary classification\n",
    "y = df.iloc[0:100, 4].values\n",
    "y = np.where(y == 'Iris-setosa', -1, 1)\n",
    "\n",
    "# extract sepal length and petal length\n",
    "X = df.iloc[:100, [0, 2]].values\n",
    "\n",
    "# plot data\n",
    "plt.scatter(X[:50, 0], X[:50, 1],\n",
    "            color='red', marker='o', label='setosa')\n",
    "plt.scatter(X[50:100, 0], X[50:100, 1],\n",
    "            color='blue', marker='x', label='versicolor')\n",
    "\n",
    "plt.xlabel('sepal length [cm]')\n",
    "plt.ylabel('petal length [cm]')\n",
    "plt.legend(loc='upper left')\n",
    "\n",
    "\n",
    "# plt.savefig('images/02_06.png', dpi=300)\n",
    "plt.show()"
   ]
  },
  {
   "cell_type": "code",
   "execution_count": null,
   "metadata": {
    "id": "xYEgTzp0s5BN"
   },
   "outputs": [],
   "source": [
    "# function for visualizing decision regions\n",
    "\n",
    "from matplotlib.colors import ListedColormap\n",
    "\n",
    "\n",
    "def plot_decision_regions(X, y, classifier, resolution=0.02):\n",
    "\n",
    "    # setup marker generator and color map\n",
    "    markers = ('s', 'x', 'o', '^', 'v')\n",
    "    colors = ('red', 'blue', 'lightgreen', 'gray', 'cyan')\n",
    "    cmap = ListedColormap(colors[:len(np.unique(y))])\n",
    "\n",
    "    # plot the decision surface\n",
    "    x1_min, x1_max = X[:, 0].min() - 1, X[:, 0].max() + 1\n",
    "    x2_min, x2_max = X[:, 1].min() - 1, X[:, 1].max() + 1\n",
    "    xx1, xx2 = np.meshgrid(np.arange(x1_min, x1_max, resolution),\n",
    "                           np.arange(x2_min, x2_max, resolution))\n",
    "    Z = classifier.predict(np.array([xx1.ravel(), xx2.ravel()]).T)\n",
    "    Z = Z.reshape(xx1.shape)\n",
    "    plt.contourf(xx1, xx2, Z, alpha=0.3, cmap=cmap)\n",
    "    plt.xlim(xx1.min(), xx1.max())\n",
    "    plt.ylim(xx2.min(), xx2.max())\n",
    "\n",
    "    # plot class examples\n",
    "    for idx, cl in enumerate(np.unique(y)):\n",
    "        plt.scatter(x=X[y == cl, 0], \n",
    "                    y=X[y == cl, 1],\n",
    "                    alpha=0.8, \n",
    "                    c=colors[idx],\n",
    "                    marker=markers[idx], \n",
    "                    label=cl, \n",
    "                    edgecolor='black')"
   ]
  },
  {
   "cell_type": "markdown",
   "metadata": {
    "id": "phGY3AEGn3dz"
   },
   "source": [
    "-----------------------\n",
    "-----------------------\n",
    "-----------------------\n"
   ]
  },
  {
   "cell_type": "markdown",
   "metadata": {
    "id": "Pe9kKR3J-uUA"
   },
   "source": [
    "## <font color = 'blue'> **Question 1. Practice with logistic regression** </font>\n",
    "\n",
    "Let's first load the textbook's implementation of logistic regression with gradient descent."
   ]
  },
  {
   "cell_type": "code",
   "execution_count": null,
   "metadata": {
    "id": "HSRTXCwz-uUA"
   },
   "outputs": [],
   "source": [
    "class LogisticRegressionGD(object):\n",
    "    \"\"\"Logistic Regression Classifier using gradient descent.\n",
    "\n",
    "    Parameters\n",
    "    ------------\n",
    "    eta : float\n",
    "      Learning rate (between 0.0 and 1.0)\n",
    "    n_iter : int\n",
    "      Passes over the training dataset.\n",
    "    random_state : int\n",
    "      Random number generator seed for random weight\n",
    "      initialization.\n",
    "\n",
    "\n",
    "    Attributes\n",
    "    -----------\n",
    "    w_ : 1d-array\n",
    "      Weights after fitting.\n",
    "    loss_ : list\n",
    "      Logistic loss function value in each epoch.\n",
    "\n",
    "    \"\"\"\n",
    "    def __init__(self, eta=0.05, n_iter=100, random_state=1):\n",
    "        self.eta = eta\n",
    "        self.n_iter = n_iter\n",
    "        self.random_state = random_state\n",
    "\n",
    "    def fit(self, X, y):\n",
    "        \"\"\" Fit training data.\n",
    "\n",
    "        Parameters\n",
    "        ----------\n",
    "        X : {array-like}, shape = [n_examples, n_features]\n",
    "          Training vectors, where n_examples is the number of examples and\n",
    "          n_features is the number of features.\n",
    "        y : array-like, shape = [n_examples]\n",
    "          Target values.\n",
    "\n",
    "        Returns\n",
    "        -------\n",
    "        self : object\n",
    "\n",
    "        \"\"\"\n",
    "        rgen = np.random.RandomState(self.random_state)\n",
    "        self.w_ = rgen.normal(loc=0.0, scale=0.01, size=1 + X.shape[1])\n",
    "        self.loss_ = []\n",
    "\n",
    "        for i in range(self.n_iter):\n",
    "            net_input = self.net_input(X)\n",
    "            output = self.activation(net_input)\n",
    "            errors = (y - output)\n",
    "            self.w_[1:] += self.eta * X.T.dot(errors)\n",
    "            self.w_[0] += self.eta * errors.sum()\n",
    "            \n",
    "            # compute the logistic `loss` \n",
    "            loss = -y.dot(np.log(output)) - ((1 - y).dot(np.log(1 - output)))\n",
    "            self.loss_.append(loss)\n",
    "        return self\n",
    "    \n",
    "    def net_input(self, X):\n",
    "        \"\"\"Calculate net input\"\"\"\n",
    "        return np.dot(X, self.w_[1:]) + self.w_[0]\n",
    "\n",
    "    def activation(self, z):\n",
    "        \"\"\"Compute logistic sigmoid activation\"\"\"\n",
    "        return 1. / (1. + np.exp(-np.clip(z, -250, 250)))\n",
    "\n",
    "    def predict(self, X):\n",
    "        \"\"\"Return class label after unit step\"\"\"\n",
    "        return np.where(self.net_input(X) >= 0.0, 1, 0)\n",
    "        # equivalent to:\n",
    "        # return np.where(self.activation(self.net_input(X)) >= 0.5, 1, 0)"
   ]
  },
  {
   "cell_type": "markdown",
   "metadata": {
    "id": "dMYBgs4E-uUF"
   },
   "source": [
    "Below you can see the first 3 data points of the data set, all labeled as 'setosa'. Let's set the numerical value for 'setosa' to 1. (i.e. y = 1). "
   ]
  },
  {
   "cell_type": "code",
   "execution_count": null,
   "metadata": {
    "id": "fyoLJVet-uUG",
    "outputId": "9ff50e48-0453-4fef-a704-5a7f81355a6d"
   },
   "outputs": [
    {
     "data": {
      "text/plain": [
       "array([[5.1, 1.4],\n",
       "       [4.9, 1.4]])"
      ]
     },
     "execution_count": 5,
     "metadata": {
      "tags": []
     },
     "output_type": "execute_result"
    }
   ],
   "source": [
    "X[0:3]"
   ]
  },
  {
   "cell_type": "markdown",
   "metadata": {
    "id": "sPbGfqmf-uUK"
   },
   "source": [
    "\n",
    "Suppose the initial weights of the logistic neuron are w0=0.1, w1=-0.2, w2=0.1\n",
    "\n",
    "<font color = 'blue'> **Q1-1**.  </font> Write the weights after processing data points 0,1,2, with learning rate $\\eta=0.1$ and show your calculations. This is similar to the previous assignment, only done now for the logistic neuron. You can also use *LogisticRegressionGD* to check your calculations. <br>\n",
    "\n",
    "<font color = 'blue'> **Q1-2**.  </font> Given our data $X$, let $X_{d=2}$ and $X_{d=3}$ be the quadratic and cubic features. Using code from the notebook on polynomial regression, generate $X_{d=2}$ and $X_{d=3}$\n",
    "\n",
    "<font color = 'blue'> **Q1-3**.  </font> Using *LogisticRegressionGD* fit $X$, $X_{d=2}$ and $X_{d=3}$. Here you should set $\\eta = 0.1$ and $n_{iter}>1000$. For each of these three cases, report the loss function value for the model computed by *LogisticRegressionGD*.\n",
    "Here it is expected that the loss value decreases as $d$ increases. \n"
   ]
  },
  {
   "cell_type": "code",
   "execution_count": null,
   "metadata": {
    "id": "0wYFal09ID7Q"
   },
   "outputs": [],
   "source": [
    "# your calculations and code go here"
   ]
  },
  {
   "cell_type": "code",
   "execution_count": null,
   "metadata": {
    "id": "HV6DRoDxG1Rl"
   },
   "outputs": [],
   "source": [
    "# Grader's area\n",
    "\n",
    "maxScore = maxScore +12\n",
    "#M[1,1] = \n",
    "#M[1,2] = \n",
    "#M[1,3] ="
   ]
  },
  {
   "cell_type": "markdown",
   "metadata": {
    "id": "6grYJ9spn6C1"
   },
   "source": [
    "-----------------------\n",
    "-----------------------\n",
    "-----------------------\n"
   ]
  },
  {
   "cell_type": "markdown",
   "metadata": {
    "id": "zW8T7xf0-uUL"
   },
   "source": [
    "## <font color = 'blue'> **Question 2. A theoretical question** </font>\n",
    "\n",
    "This question is about a theoretical explanation for what you observed in question 1(iii). \n",
    "\n",
    "<br>\n",
    "\n",
    "Suppose $f_1$ is a model that optimally fits the data $(X,y)$, and $f_2$ is another model that optimally fits the data $(X_2,y)$ where $X_2$ are the quadratic features of $X$. Then the loss function value obtained by $f_2$ is **always** going to be at least equal to that for $f_1$. Try to come up with a solid mathematical argument that justifies this claim. [Note: as with anything else, feel free to discuss this on Canvas]"
   ]
  },
  {
   "cell_type": "markdown",
   "metadata": {
    "id": "nRk7QbZLH_DY"
   },
   "source": [
    "(your answer goes here)"
   ]
  },
  {
   "cell_type": "code",
   "execution_count": null,
   "metadata": {
    "id": "WJrBDgJYBQZL"
   },
   "outputs": [],
   "source": [
    "# Grader's area\n",
    "\n",
    "maxScore = maxScore + 4\n",
    "#M[2,1] = \n"
   ]
  },
  {
   "cell_type": "markdown",
   "metadata": {
    "id": "vxiK-qoin6_-"
   },
   "source": [
    "-----------------------\n",
    "-----------------------\n",
    "-----------------------\n"
   ]
  },
  {
   "cell_type": "markdown",
   "metadata": {
    "id": "YMEcdAp3-uT-"
   },
   "source": [
    "##  <font color = 'blue'> **Question 3. Logistic Regression: How 'unfair' can it be?**  </font>\n",
    "\n",
    "We have seen that the inductive bias of an SVC guarantees that when the dataset is linearly separable, SVC will return a hyperplane that is at exactly the same distance from the two classes.  But what about logistic regression? Can we guarantee that it can also be at least partially fair?\n",
    "\n",
    "The answer is **negative**. We can  demonstrate how logistic regression can be 'unfair' by constructing a dataset with the properties that: <br> \n",
    "\n",
    "**a.** the data set is linearly separable  <br>\n",
    "**b.** the optimal logistic regression model corresponds to a hyperplane that nearly 'touches' one of the two classes, i.e. it gives a very big margin to the one of the two classes and very small margin for the other class.  <br>\n",
    "\n",
    "Demonstrate your answer as follows: <br>\n",
    "\n",
    "<font color = 'blue'> **Q3-1**.  </font>\n",
    " Plot the data points, as we did above for the iris data set. This will show that your data set is linearly separable. <br>\n",
    "<font color = 'blue'> **Q3-2**.  </font> Calculate the optimal logistic neuron weights using the function *LogisticRegressionGD* from question 1. <br>\n",
    "<font color = 'blue'> **Q3-3**. </font>  Plot the decision regions to demonstrate how the learned separation line is unfair. \n",
    "\n",
    "**Hint**: Try small datasets.\n",
    "**Note**: It's best to use fresh variables for your dataset, because the previous $X,y$ are re-used in question 4.\n"
   ]
  },
  {
   "cell_type": "code",
   "execution_count": null,
   "metadata": {
    "id": "LejWjUeapllz"
   },
   "outputs": [],
   "source": [
    "# your answers go here"
   ]
  },
  {
   "cell_type": "code",
   "execution_count": null,
   "metadata": {
    "id": "mTPbCgxvkoA9"
   },
   "outputs": [],
   "source": []
  },
  {
   "cell_type": "code",
   "execution_count": null,
   "metadata": {
    "id": "ayVRy0pxlBDP"
   },
   "outputs": [],
   "source": [
    "# Grader's area\n",
    "\n",
    "maxScore = maxScore + 12\n",
    "#M[3,1] = \n",
    "#M[3,2] = \n",
    "#M[3,3] = \n"
   ]
  },
  {
   "cell_type": "markdown",
   "metadata": {
    "id": "Z2ZazaTq1GzQ"
   },
   "source": [
    "<font color = 'blue'> **Q3-4**.  </font> The standard scikit-learn implementation of logistic regression uses regularization by default ($C=1$).  Can you come up with a linearly separable dataset that makes that **default** implementation fail? <br>\n",
    "\n",
    "[Note: This is an experimental question. You should be able to use the example from above, or modify it, and make the default implementation fail.]"
   ]
  },
  {
   "cell_type": "code",
   "execution_count": null,
   "metadata": {
    "id": "yrSMBWyD2mKC"
   },
   "outputs": [],
   "source": [
    "# your answer goes here"
   ]
  },
  {
   "cell_type": "code",
   "execution_count": null,
   "metadata": {
    "id": "XN-VON-12oqM"
   },
   "outputs": [],
   "source": []
  },
  {
   "cell_type": "code",
   "execution_count": null,
   "metadata": {
    "id": "ZlN9ptsC2rz_"
   },
   "outputs": [],
   "source": [
    "# Grader's area\n",
    "maxScore = maxScore + 4\n",
    "\n",
    "# M[3,4] = "
   ]
  },
  {
   "cell_type": "markdown",
   "metadata": {
    "id": "kffsOAaln8C_"
   },
   "source": [
    "-----------------------\n",
    "-----------------------\n",
    "-----------------------\n"
   ]
  },
  {
   "cell_type": "markdown",
   "metadata": {
    "id": "uVUZKNB2kod6"
   },
   "source": [
    "##  <font color = 'blue'> **Question 4. SVC and classification margin**  </font>\n",
    "\n",
    "The Iris dataset defined in above cells is linearly separable. \n",
    "\n",
    "<font color = 'blue'> **Q4-1.**  </font> Use a [linear SVC](https://scikit-learn.org/stable/modules/generated/sklearn.svm.LinearSVC.html) to learn a hyperplane $y=w_1x_1 +w_2x_2 +b$ that maximizes the margin for this Iris dataset. In your answer, specify a setting for the hyperparameter $C$ that reduces the amount of regularization, i.e. it incentivizes very small slacks.\n",
    "\n",
    "<font color = 'blue'> **Q4-2.** </font> Extract the coefficients $w$ and the intercept $b$ from the learned SVC. Find the the 2-norm of $w$, $s = ||w||_2$.\n",
    "[Hint: Read the documentation in order to access the coefficients] \n",
    "\n",
    "<font color = 'blue'> **Q4-3.** </font> Set $w = w/s$ and $b=b/s$. This changes the numerical definition of the separation line, but the line is still the same.  \n",
    "\n",
    "<font color = 'blue'> **Q4-4.** </font> With the new $w$ and $b$, calculate $wx^T - b$ for each point $x$ in our dataset. This will give a range of values, let $\\gamma$ be the smallest one in absolute value. This $\\gamma$ is the margin (in fact there should be two points $x_1$ and $x_2$ of different labels, that give $wx_1^T - b = \\gamma$ and $wx_1^T - b = -\\gamma$). \n",
    "\n",
    "\n",
    "**Note:** as with anything else, feel free to discuss this on Canvas."
   ]
  },
  {
   "cell_type": "code",
   "execution_count": null,
   "metadata": {
    "id": "64Pwo6Mxmv6X"
   },
   "outputs": [],
   "source": [
    "# Grader's area\n",
    "\n",
    "maxScore = maxScore + 16\n",
    "#M[4,1] = \n",
    "#M[4,2] = \n",
    "#M[4,3] = \n",
    "#M[4,4] = \n"
   ]
  },
  {
   "cell_type": "markdown",
   "metadata": {
    "id": "JTLcwDVan9x9"
   },
   "source": [
    "-----------------------\n",
    "-----------------------\n",
    "-----------------------\n"
   ]
  },
  {
   "cell_type": "markdown",
   "metadata": {
    "id": "N3ECKgmBD_aJ"
   },
   "source": [
    "##  <font color = 'blue'> **Question 5. Upper bound for perceptron errors before convergence**  </font>\n",
    "\n",
    "In this problem we will use $\\gamma$ calculated in question 4. If you have not been able to calculate it, you can 'borrow' its value from someone else that has calculated it (I expect that this can be done on Canvas).\n",
    "\n",
    "<font color = 'blue'> **Q5-1.** </font> Calculate $R = \\max_{x\\in X} ||x||_2$. In other words, find the 2-norm of all points in the dataset, and let $R$ be the maximum norm. \n",
    "\n",
    "<font color = 'blue'> **Q5-2.** </font> Calculate $maxErrors = R/\\gamma^2$. This is the maximum number of errors that a perceptron can do, in the worst case, before it convergences. \n",
    "\n",
    "<font color = 'blue'> **Q5-3.** </font> Compare $maxError$ with the actual number of errors that the perceptron does with a random initialization. [Hint: Re-use the code from assignment 2, or anything else that can provide you with that number].  \n",
    "\n",
    "\n"
   ]
  },
  {
   "cell_type": "code",
   "execution_count": null,
   "metadata": {
    "id": "ccvq5Z_RI8nO"
   },
   "outputs": [],
   "source": [
    "# your answers go here"
   ]
  },
  {
   "cell_type": "code",
   "execution_count": null,
   "metadata": {
    "id": "KT8yPatZI-US"
   },
   "outputs": [],
   "source": []
  },
  {
   "cell_type": "code",
   "execution_count": null,
   "metadata": {
    "id": "vUts9oNyI4R7"
   },
   "outputs": [],
   "source": [
    "# Grader's area\n",
    "\n",
    "maxScore = maxScore + 12\n",
    "#M[5,1] = \n",
    "#M[5,2] = \n",
    "#M[5,3] = \n",
    " \n"
   ]
  },
  {
   "cell_type": "markdown",
   "metadata": {
    "id": "fdAULOJaI_2h"
   },
   "source": [
    "----------------------------\n",
    "----------------------------\n",
    "----------------------------"
   ]
  },
  {
   "cell_type": "code",
   "execution_count": null,
   "metadata": {
    "id": "IVkneTzYCAxs"
   },
   "outputs": [],
   "source": [
    "#Grader's area\n",
    "\n",
    "rawScore = np.sum(M)\n",
    "score = rawScore*100/maxScore"
   ]
  },
  {
   "cell_type": "code",
   "execution_count": null,
   "metadata": {
    "id": "RHdcyebzleMQ"
   },
   "outputs": [],
   "source": []
  }
 ],
 "metadata": {
  "colab": {
   "collapsed_sections": [],
   "provenance": []
  },
  "kernelspec": {
   "display_name": "Python 3",
   "language": "python",
   "name": "python3"
  },
  "language_info": {
   "codemirror_mode": {
    "name": "ipython",
    "version": 3
   },
   "file_extension": ".py",
   "mimetype": "text/x-python",
   "name": "python",
   "nbconvert_exporter": "python",
   "pygments_lexer": "ipython3",
   "version": "3.7.4"
  }
 },
 "nbformat": 4,
 "nbformat_minor": 1
}
