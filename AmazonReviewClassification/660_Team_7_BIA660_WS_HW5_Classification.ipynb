{
 "cells": [
  {
   "cell_type": "code",
   "execution_count": 78,
   "metadata": {},
   "outputs": [],
   "source": [
    "\"\"\"\n",
    "A simple script that demonstrates how we classify textual data with sklearn.\n",
    "\n",
    "\"\"\"\n",
    "from sklearn.feature_extraction.text import CountVectorizer, TfidfVectorizer\n",
    "from sklearn import naive_bayes, svm\n",
    "from sklearn.svm import LinearSVC\n",
    "from sklearn.neighbors import KNeighborsClassifier\n",
    "from sklearn.metrics import accuracy_score\n",
    "from sklearn.linear_model import LogisticRegression\n",
    "from sklearn.linear_model import SGDClassifier\n",
    "from sklearn.preprocessing import MinMaxScaler\n"
   ]
  },
  {
   "cell_type": "code",
   "execution_count": 79,
   "metadata": {},
   "outputs": [],
   "source": [
    "\n",
    "#read the reviews and their polarities from a given file\n",
    "def loadData(fname):\n",
    "    reviews=[]\n",
    "    labels=[]\n",
    "    f=open(fname)\n",
    "    for line in f:\n",
    "        review,rating=line.strip().split('\\t') \n",
    "        reviews.append(review.lower())    \n",
    "        labels.append(int(rating))\n",
    "    f.close()\n",
    "    return reviews,labels\n",
    "\n",
    "rev_train,labels_train=loadData('reviews_train.txt')\n",
    "rev_test,labels_test=loadData('reviews_test.txt')\n",
    "\n",
    "\n",
    "#Build a counter based on the training dataset\n",
    "#counter = CountVectorizer(ngram_range=(2,3))\n",
    "counter = TfidfVectorizer(stop_words=\"english\",sublinear_tf=True)\n",
    "counter.fit(rev_train)\n",
    "\n",
    "\n",
    "#count the number of times each term appears in a document and transform each doc into a count vector\n",
    "counts_train = counter.transform(rev_train)#transform the training data\n",
    "counts_test = counter.transform(rev_test)#transform the testing data"
   ]
  },
  {
   "cell_type": "code",
   "execution_count": 80,
   "metadata": {},
   "outputs": [
    {
     "name": "stdout",
     "output_type": "stream",
     "text": [
      "89.66666666666666\n"
     ]
    }
   ],
   "source": [
    "clf = svm.SVC(C=1.0, kernel='linear', degree=3, gamma='auto')\n",
    "\n",
    "#train all classifier on the same datasets\n",
    "clf.fit(counts_train,labels_train)\n",
    "\n",
    "#use hard voting to predict (majority voting)\n",
    "pred=clf.predict(counts_test)\n",
    "\n",
    "#print accuracy\n",
    "print (accuracy_score(pred,labels_test)*100)\n"
   ]
  },
  {
   "cell_type": "code",
   "execution_count": 81,
   "metadata": {},
   "outputs": [
    {
     "name": "stdout",
     "output_type": "stream",
     "text": [
      "87.0\n"
     ]
    }
   ],
   "source": [
    "clf = naive_bayes.MultinomialNB()\n",
    "#train all classifier on the same datasets\n",
    "clf.fit(counts_train,labels_train)\n",
    "\n",
    "#use hard voting to predict (majority voting)\n",
    "pred=clf.predict(counts_test)\n",
    "\n",
    "#print accuracy\n",
    "print (accuracy_score(pred,labels_test)*100)\n"
   ]
  },
  {
   "cell_type": "code",
   "execution_count": 82,
   "metadata": {},
   "outputs": [
    {
     "name": "stdout",
     "output_type": "stream",
     "text": [
      "89.0\n"
     ]
    }
   ],
   "source": [
    "clf = LogisticRegression(max_iter=200)\n",
    "\n",
    "clf.fit(counts_train,labels_train)\n",
    "\n",
    "pred = clf.predict(counts_test)\n",
    "\n",
    "print(accuracy_score(pred,labels_test)*100)"
   ]
  },
  {
   "cell_type": "code",
   "execution_count": 83,
   "metadata": {},
   "outputs": [
    {
     "name": "stdout",
     "output_type": "stream",
     "text": [
      "90.0\n"
     ]
    }
   ],
   "source": [
    "clf = SGDClassifier(loss='hinge', penalty='l2',alpha=1e-3, random_state=42,max_iter=5000, tol=None)\n",
    "\n",
    "clf.fit(counts_train,labels_train)\n",
    "\n",
    "pred = clf.predict(counts_test)\n",
    "\n",
    "print(accuracy_score(pred,labels_test)*100)"
   ]
  }
 ],
 "metadata": {
  "kernelspec": {
   "display_name": "Python 3",
   "language": "python",
   "name": "python3"
  },
  "language_info": {
   "codemirror_mode": {
    "name": "ipython",
    "version": 3
   },
   "file_extension": ".py",
   "mimetype": "text/x-python",
   "name": "python",
   "nbconvert_exporter": "python",
   "pygments_lexer": "ipython3",
   "version": "3.10.5"
  },
  "vscode": {
   "interpreter": {
    "hash": "79f58b2da1d0ebeef0843b536b913fe6ecf5d6027e7f201d25bafe70c90b7910"
   }
  }
 },
 "nbformat": 4,
 "nbformat_minor": 2
}
